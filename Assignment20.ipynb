{
 "cells": [
  {
   "cell_type": "markdown",
   "id": "e2550b8c-c353-4d89-90cb-0a1f9d3f55d1",
   "metadata": {},
   "source": [
    "## Q1. What is Web Scraping? Why is it Used? Give three areas where Web Scraping is used to get data. "
   ]
  },
  {
   "cell_type": "markdown",
   "id": "7ba0a034-83ac-472c-8904-f5fa9d911884",
   "metadata": {},
   "source": [
    "### Web scraping is an automatic method to obtain large amounts of data from websites.\n",
    "\n",
    "### Web scrapping is used for Competition monitoring, Price comaparision, Acadmic Research, Data analysis.\n",
    "\n",
    "\n",
    "## Areas where Web scrapping can be used are:\n",
    "### 1.Monitoring e-commerce prices.\n",
    "### 2.Analyzing social media web data.\n",
    "### 3.Applying machine learning techniques."
   ]
  },
  {
   "cell_type": "markdown",
   "id": "47a0c24f-035b-41f1-9b3b-30bfe3380f1b",
   "metadata": {},
   "source": [
    "## Q2. What are the different methods used for Web Scraping?"
   ]
  },
  {
   "cell_type": "markdown",
   "id": "6c3cbc1e-a2ba-42e7-8c39-8463b6087604",
   "metadata": {},
   "source": [
    "### 1. Copy and Paste\n",
    "### 2. HTML Parsing\n",
    "### 3. HTTp Programming"
   ]
  },
  {
   "cell_type": "markdown",
   "id": "a7e35d48-3a8b-4a46-bcbd-d542381ae98c",
   "metadata": {},
   "source": [
    "## Q3. What is Beautiful Soup? Why is it used?"
   ]
  },
  {
   "cell_type": "markdown",
   "id": "3a9caac4-26a9-4d9e-beac-fb086b0ec8c9",
   "metadata": {},
   "source": [
    "### Beautiful Soup is a Python package for parsing HTML and XML documents.\n",
    "### It helps with isolating titles and links from webpages. It can extract all of the text from ​HTML tags, and alter the HTML ​in the document with which we’re working."
   ]
  },
  {
   "cell_type": "markdown",
   "id": "7d9e8c89-0c66-4c6e-8047-c2fdd7310ec1",
   "metadata": {},
   "source": [
    "## Q4. Why is flask used in this Web Scraping project?"
   ]
  },
  {
   "cell_type": "markdown",
   "id": "536e759e-e949-42de-85d3-2dc9c89e895c",
   "metadata": {},
   "source": [
    "### Flask is a lightweight framework to build websites. We use it to parse our collected data and display it as HTML in a new HTML file. "
   ]
  },
  {
   "cell_type": "markdown",
   "id": "c212e4c5-dd21-4af3-880d-33a4615319fb",
   "metadata": {},
   "source": [
    "## Q5. Write the names of AWS services used in this project. Also, explain the use of each service. "
   ]
  },
  {
   "cell_type": "markdown",
   "id": "340af4d5-9544-4a2b-87ee-ebc586bf9066",
   "metadata": {},
   "source": [
    "## Code Pipeline and Elastic Beanstalk"
   ]
  },
  {
   "cell_type": "markdown",
   "id": "893a7117-2148-47af-9d45-eeb24d99d931",
   "metadata": {},
   "source": [
    "### Code Pipeline allows you to integrate third-party developer tools, like GitHub or Jenkins, into any stage of your release process with one click\n",
    "\n",
    "### Elastic Beastalk is a service for deploying and scaling web applications and services. "
   ]
  },
  {
   "cell_type": "code",
   "execution_count": null,
   "id": "09fdcc02-f48e-45ef-844d-b3b88bafe9db",
   "metadata": {},
   "outputs": [],
   "source": []
  }
 ],
 "metadata": {
  "kernelspec": {
   "display_name": "Python 3 (ipykernel)",
   "language": "python",
   "name": "python3"
  },
  "language_info": {
   "codemirror_mode": {
    "name": "ipython",
    "version": 3
   },
   "file_extension": ".py",
   "mimetype": "text/x-python",
   "name": "python",
   "nbconvert_exporter": "python",
   "pygments_lexer": "ipython3",
   "version": "3.10.8"
  }
 },
 "nbformat": 4,
 "nbformat_minor": 5
}
